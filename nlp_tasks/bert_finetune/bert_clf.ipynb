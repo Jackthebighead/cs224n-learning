{
 "cells": [
  {
   "cell_type": "markdown",
   "metadata": {
    "id": "U6hrrdf2wJLf"
   },
   "source": [
    "#  BERT Classifier\n",
    "- Group 14\n",
    "- Kaggle Team Name: Yellow Submarine\n",
    "    - Score: 0.59839,   Rank: 4\n",
    "- Team members (Student Name & ID & kaggle display name):\n",
    "    - YUAN Yanzhe: 20728555  (bighead)\n",
    "    - LIU Donghua: 20731100  (Danhuang)\n",
    "    - SHEN Dinghui: 20726478  (mengnan)\n",
    "- Run on: Google Colab"
   ]
  },
  {
   "cell_type": "code",
   "execution_count": 1,
   "metadata": {
    "colab": {
     "base_uri": "https://localhost:8080/"
    },
    "id": "EYWyAfTOwLH7",
    "outputId": "4b7ba54f-e671-4a90-b9b4-c5d1849da13d"
   },
   "outputs": [
    {
     "name": "stdout",
     "output_type": "stream",
     "text": [
      "Drive already mounted at /content/drive; to attempt to forcibly remount, call drive.mount(\"/content/drive\", force_remount=True).\n"
     ]
    }
   ],
   "source": [
    "from google.colab import drive\n",
    "drive.mount('/content/drive')\n"
   ]
  },
  {
   "cell_type": "code",
   "execution_count": 2,
   "metadata": {
    "id": "uOGxDBMGwbCA"
   },
   "outputs": [],
   "source": [
    "import os\n",
    "os.chdir('/content/drive/MyDrive/Colab Notebooks/6000_proj1')"
   ]
  },
  {
   "cell_type": "code",
   "execution_count": 3,
   "metadata": {
    "colab": {
     "base_uri": "https://localhost:8080/"
    },
    "id": "EKnxFCagw0Q3",
    "outputId": "86727500-7e70-4724-c3b9-678466232ae0"
   },
   "outputs": [
    {
     "name": "stdout",
     "output_type": "stream",
     "text": [
      "Collecting transformers\n",
      "\u001b[?25l  Downloading https://files.pythonhosted.org/packages/81/91/61d69d58a1af1bd81d9ca9d62c90a6de3ab80d77f27c5df65d9a2c1f5626/transformers-4.5.0-py3-none-any.whl (2.1MB)\n",
      "\u001b[K     |████████████████████████████████| 2.2MB 11.3MB/s \n",
      "\u001b[?25hCollecting sacremoses\n",
      "\u001b[?25l  Downloading https://files.pythonhosted.org/packages/08/cd/342e584ee544d044fb573ae697404ce22ede086c9e87ce5960772084cad0/sacremoses-0.0.44.tar.gz (862kB)\n",
      "\u001b[K     |████████████████████████████████| 870kB 40.9MB/s \n",
      "\u001b[?25hRequirement already satisfied: importlib-metadata; python_version < \"3.8\" in /usr/local/lib/python3.7/dist-packages (from transformers) (3.8.1)\n",
      "Requirement already satisfied: numpy>=1.17 in /usr/local/lib/python3.7/dist-packages (from transformers) (1.19.5)\n",
      "Requirement already satisfied: regex!=2019.12.17 in /usr/local/lib/python3.7/dist-packages (from transformers) (2019.12.20)\n",
      "Collecting tokenizers<0.11,>=0.10.1\n",
      "\u001b[?25l  Downloading https://files.pythonhosted.org/packages/ae/04/5b870f26a858552025a62f1649c20d29d2672c02ff3c3fb4c688ca46467a/tokenizers-0.10.2-cp37-cp37m-manylinux2010_x86_64.whl (3.3MB)\n",
      "\u001b[K     |████████████████████████████████| 3.3MB 29.9MB/s \n",
      "\u001b[?25hRequirement already satisfied: filelock in /usr/local/lib/python3.7/dist-packages (from transformers) (3.0.12)\n",
      "Requirement already satisfied: requests in /usr/local/lib/python3.7/dist-packages (from transformers) (2.23.0)\n",
      "Requirement already satisfied: tqdm>=4.27 in /usr/local/lib/python3.7/dist-packages (from transformers) (4.41.1)\n",
      "Requirement already satisfied: packaging in /usr/local/lib/python3.7/dist-packages (from transformers) (20.9)\n",
      "Requirement already satisfied: six in /usr/local/lib/python3.7/dist-packages (from sacremoses->transformers) (1.15.0)\n",
      "Requirement already satisfied: click in /usr/local/lib/python3.7/dist-packages (from sacremoses->transformers) (7.1.2)\n",
      "Requirement already satisfied: joblib in /usr/local/lib/python3.7/dist-packages (from sacremoses->transformers) (1.0.1)\n",
      "Requirement already satisfied: zipp>=0.5 in /usr/local/lib/python3.7/dist-packages (from importlib-metadata; python_version < \"3.8\"->transformers) (3.4.1)\n",
      "Requirement already satisfied: typing-extensions>=3.6.4; python_version < \"3.8\" in /usr/local/lib/python3.7/dist-packages (from importlib-metadata; python_version < \"3.8\"->transformers) (3.7.4.3)\n",
      "Requirement already satisfied: certifi>=2017.4.17 in /usr/local/lib/python3.7/dist-packages (from requests->transformers) (2020.12.5)\n",
      "Requirement already satisfied: idna<3,>=2.5 in /usr/local/lib/python3.7/dist-packages (from requests->transformers) (2.10)\n",
      "Requirement already satisfied: chardet<4,>=3.0.2 in /usr/local/lib/python3.7/dist-packages (from requests->transformers) (3.0.4)\n",
      "Requirement already satisfied: urllib3!=1.25.0,!=1.25.1,<1.26,>=1.21.1 in /usr/local/lib/python3.7/dist-packages (from requests->transformers) (1.24.3)\n",
      "Requirement already satisfied: pyparsing>=2.0.2 in /usr/local/lib/python3.7/dist-packages (from packaging->transformers) (2.4.7)\n",
      "Building wheels for collected packages: sacremoses\n",
      "  Building wheel for sacremoses (setup.py) ... \u001b[?25l\u001b[?25hdone\n",
      "  Created wheel for sacremoses: filename=sacremoses-0.0.44-cp37-none-any.whl size=886084 sha256=62ca7166f5866246a2057f143c1c5068b803e10f50ddd367d0fc518a09ec6267\n",
      "  Stored in directory: /root/.cache/pip/wheels/3e/fb/c0/13ab4d63d537658f448366744654323077c4d90069b6512f3c\n",
      "Successfully built sacremoses\n",
      "Installing collected packages: sacremoses, tokenizers, transformers\n",
      "Successfully installed sacremoses-0.0.44 tokenizers-0.10.2 transformers-4.5.0\n",
      "Requirement already satisfied: nltk in /usr/local/lib/python3.7/dist-packages (3.2.5)\n",
      "Requirement already satisfied: six in /usr/local/lib/python3.7/dist-packages (from nltk) (1.15.0)\n",
      "[nltk_data] Downloading package stopwords to /root/nltk_data...\n",
      "[nltk_data]   Unzipping corpora/stopwords.zip.\n"
     ]
    },
    {
     "data": {
      "text/plain": [
       "True"
      ]
     },
     "execution_count": 3,
     "metadata": {
      "tags": []
     },
     "output_type": "execute_result"
    }
   ],
   "source": [
    "!pip install transformers\n",
    "!pip install nltk\n",
    "import nltk\n",
    "nltk.download('stopwords')"
   ]
  },
  {
   "cell_type": "code",
   "execution_count": 4,
   "metadata": {
    "colab": {
     "base_uri": "https://localhost:8080/"
    },
    "id": "H6KIa104wJLk",
    "outputId": "9d9e0980-5c4a-49c0-cf21-f2a950d8c693"
   },
   "outputs": [
    {
     "name": "stdout",
     "output_type": "stream",
     "text": [
      "There are 1 GPU(s) available.\n",
      "Device name: Tesla K80\n"
     ]
    }
   ],
   "source": [
    "# machine laerning packages\n",
    "import os\n",
    "import re\n",
    "import math\n",
    "import pandas as pd\n",
    "import numpy as np\n",
    "from collections import defaultdict\n",
    "import matplotlib.pyplot as plt\n",
    "\n",
    "from sklearn.model_selection import StratifiedKFold\n",
    "from sklearn.metrics import accuracy_score, f1_score\n",
    "\n",
    "import nltk\n",
    "from nltk.corpus import stopwords\n",
    "\n",
    "\n",
    "# deep learning packages\n",
    "import torch\n",
    "from torch import nn as nn\n",
    "from torch.utils.data import TensorDataset, DataLoader, RandomSampler, SequentialSampler\n",
    "\n",
    "import transformers\n",
    "from transformers import BertTokenizer\n",
    "from transformers import BertModel\n",
    "from transformers import BertForSequenceClassification\n",
    "from transformers import AdamW\n",
    "from transformers import get_linear_schedule_with_warmup\n",
    "\n",
    "# settings\n",
    "stopwords = set(stopwords.words(\"english\"))    \n",
    "if torch.cuda.is_available():       \n",
    "    device = torch.device(\"cuda\")\n",
    "    print(f'There are {torch.cuda.device_count()} GPU(s) available.')\n",
    "    print('Device name:', torch.cuda.get_device_name(0))\n",
    "\n",
    "else:\n",
    "    print('No GPU available, using the CPU instead.')\n",
    "    device = torch.device(\"cpu\")"
   ]
  },
  {
   "cell_type": "markdown",
   "metadata": {
    "id": "Z1Yk7X7rwJLl"
   },
   "source": [
    "## 1. Data Proprocessing\n",
    "\n",
    "- lower word\n",
    "- re filtering\n",
    "- stopword filtering"
   ]
  },
  {
   "cell_type": "code",
   "execution_count": 5,
   "metadata": {
    "id": "cbHLHP5iwJLl"
   },
   "outputs": [],
   "source": [
    "# preprocessing\n",
    "\n",
    "def load_data(file_name):\n",
    "    df = pd.read_csv(file_name)\n",
    "    return df, df['text'], df['context'], df['impact_label']\n",
    "\n",
    "def preprocessing(text, lower_word=True, re_word=True, stop_word=True):\n",
    "    # input: text:str\n",
    "    # output: preprocessed sentence:str\n",
    "    \n",
    "    # lower_word\n",
    "    if lower_word:\n",
    "        text = text.lower()\n",
    "    \n",
    "    # re_word\n",
    "    if re_word:\n",
    "         text = text.strip('[]').replace(\"'\", \"\").replace(\"'\", \"\").replace(\"%\", \" percent \")\\\n",
    "                    .replace(\"$\", \" dollar \").replace('&', ' and ').replace(\"-\", \" \")\n",
    "                    #.replace('.','').replace('\"', \"\")    \n",
    "    # stop_word\n",
    "    if stop_word:\n",
    "        text = ' '.join([word for word in text.split() if word not in stopwords])\n",
    "        # remove whitespace\n",
    "        text = re.sub(r'\\s+', ' ', text).strip()\n",
    "    \n",
    "    return text\n"
   ]
  },
  {
   "cell_type": "code",
   "execution_count": 6,
   "metadata": {
    "colab": {
     "base_uri": "https://localhost:8080/",
     "height": 204
    },
    "id": "lZj8JMugwJLl",
    "outputId": "1a3b2b2c-a6b1-428d-8ae9-37ce7fe2769b"
   },
   "outputs": [
    {
     "data": {
      "text/html": [
       "<div>\n",
       "<style scoped>\n",
       "    .dataframe tbody tr th:only-of-type {\n",
       "        vertical-align: middle;\n",
       "    }\n",
       "\n",
       "    .dataframe tbody tr th {\n",
       "        vertical-align: top;\n",
       "    }\n",
       "\n",
       "    .dataframe thead th {\n",
       "        text-align: right;\n",
       "    }\n",
       "</style>\n",
       "<table border=\"1\" class=\"dataframe\">\n",
       "  <thead>\n",
       "    <tr style=\"text-align: right;\">\n",
       "      <th></th>\n",
       "      <th>id</th>\n",
       "      <th>text</th>\n",
       "      <th>context</th>\n",
       "      <th>stance_label</th>\n",
       "      <th>impact_label</th>\n",
       "    </tr>\n",
       "  </thead>\n",
       "  <tbody>\n",
       "    <tr>\n",
       "      <th>0</th>\n",
       "      <td>train_0</td>\n",
       "      <td>All adoption agencies conduct interviews and h...</td>\n",
       "      <td>['A license should be required in order to hav...</td>\n",
       "      <td>['NULL', 'OPPOSE', 'OPPOSE', 'SUPPORT']</td>\n",
       "      <td>MEDIUM_IMPACT</td>\n",
       "    </tr>\n",
       "    <tr>\n",
       "      <th>1</th>\n",
       "      <td>train_1</td>\n",
       "      <td>Genetically modified crops need fewer scarce r...</td>\n",
       "      <td>['The sale of genetically modified food should...</td>\n",
       "      <td>['NULL', 'OPPOSE', 'SUPPORT']</td>\n",
       "      <td>IMPACTFUL</td>\n",
       "    </tr>\n",
       "    <tr>\n",
       "      <th>2</th>\n",
       "      <td>train_2</td>\n",
       "      <td>Some of Antifa's actions may be morally questi...</td>\n",
       "      <td>['Democrats should not cooperate with Donald T...</td>\n",
       "      <td>['NULL', 'OPPOSE', 'SUPPORT', 'OPPOSE', 'SUPPO...</td>\n",
       "      <td>MEDIUM_IMPACT</td>\n",
       "    </tr>\n",
       "    <tr>\n",
       "      <th>3</th>\n",
       "      <td>train_3</td>\n",
       "      <td>Most pet lovers eat animals.</td>\n",
       "      <td>['People should donate to organisations that s...</td>\n",
       "      <td>['NULL', 'OPPOSE', 'OPPOSE', 'OPPOSE', 'SUPPORT']</td>\n",
       "      <td>MEDIUM_IMPACT</td>\n",
       "    </tr>\n",
       "    <tr>\n",
       "      <th>4</th>\n",
       "      <td>train_4</td>\n",
       "      <td>Biologically-driven reproductive desires are c...</td>\n",
       "      <td>['Gender (the concept of masculinity and femin...</td>\n",
       "      <td>['NULL', 'SUPPORT', 'SUPPORT', 'OPPOSE', 'SUPP...</td>\n",
       "      <td>IMPACTFUL</td>\n",
       "    </tr>\n",
       "  </tbody>\n",
       "</table>\n",
       "</div>"
      ],
      "text/plain": [
       "        id  ...   impact_label\n",
       "0  train_0  ...  MEDIUM_IMPACT\n",
       "1  train_1  ...      IMPACTFUL\n",
       "2  train_2  ...  MEDIUM_IMPACT\n",
       "3  train_3  ...  MEDIUM_IMPACT\n",
       "4  train_4  ...      IMPACTFUL\n",
       "\n",
       "[5 rows x 5 columns]"
      ]
     },
     "execution_count": 6,
     "metadata": {
      "tags": []
     },
     "output_type": "execute_result"
    }
   ],
   "source": [
    "# Load Data\n",
    "train_raw, train_raw_text, train_raw_context, train_raw_label = load_data('data/train.csv')\n",
    "valid_raw, valid_raw_text, valid_raw_context, valid_raw_label = load_data('data/valid.csv')\n",
    "test_raw, test_raw_text, test_raw_context, test_raw_label = load_data('data/test.csv')\n",
    "\n",
    "train_raw.head()\n",
    "#valid_raw.head()\n",
    "#test_raw.head()"
   ]
  },
  {
   "cell_type": "code",
   "execution_count": 7,
   "metadata": {
    "colab": {
     "base_uri": "https://localhost:8080/"
    },
    "id": "02jrKyrUwJLm",
    "outputId": "221c17e0-b0f9-4795-a7e5-400c65e260d4"
   },
   "outputs": [
    {
     "name": "stdout",
     "output_type": "stream",
     "text": [
      "5170\n",
      "5170\n",
      "5170\n",
      "1108\n",
      "1108\n",
      "1108\n",
      "1108\n",
      "1108\n"
     ]
    }
   ],
   "source": [
    "# Do Preprocessing\n",
    "# train and valid data\n",
    "train_text = [preprocessing(text, lower_word=True, re_word=True, stop_word=True) for text in train_raw_text]\n",
    "valid_text = [preprocessing(text, lower_word=True, re_word=True, stop_word=True) for text in valid_raw_text]\n",
    "train_context = [preprocessing(text, lower_word=True, re_word=True, stop_word=True) for text in train_raw_context]\n",
    "valid_context = [preprocessing(text, lower_word=True, re_word=True, stop_word=True) for text in valid_raw_context]\n",
    "\n",
    "class_to_label = {'NOT_IMPACTFUL':0, 'MEDIUM_IMPACT':1, 'IMPACTFUL':2}\n",
    "train_label = train_raw_label.map(class_to_label).tolist()\n",
    "valid_label = valid_raw_label.map(class_to_label).tolist()\n",
    "\n",
    "print(len(train_text))\n",
    "print(len(train_context))\n",
    "print(len(train_label))\n",
    "print(len(valid_text))\n",
    "print(len(valid_context))\n",
    "print(len(valid_label))\n",
    "\n",
    "# test data\n",
    "test_text = [preprocessing(text, lower_word=True, re_word=True, stop_word=True) for text in test_raw_text]\n",
    "test_context = [preprocessing(text, lower_word=True, re_word=True, stop_word=True) for text in test_raw_context]\n",
    "test_label = test_raw_label.map({'UNKNOWN':-1})\n",
    "print(len(test_text))\n",
    "print(len(test_context))\n"
   ]
  },
  {
   "cell_type": "markdown",
   "metadata": {
    "id": "zzYPRSvqcmdI"
   },
   "source": [
    "## EDA\n",
    "\n",
    "- class imbalance\n",
    "- max_length"
   ]
  },
  {
   "cell_type": "code",
   "execution_count": 8,
   "metadata": {
    "colab": {
     "base_uri": "https://localhost:8080/"
    },
    "id": "4TpvIFtjwJLm",
    "outputId": "9161d0f0-73de-406f-e567-695cb1420f10",
    "scrolled": true
   },
   "outputs": [
    {
     "name": "stdout",
     "output_type": "stream",
     "text": [
      "The shape of train data:  (5170, 5)\n",
      "The shape of valid data:  (1108, 5)\n",
      "\n",
      "# of NULL value in train data:\n",
      " id              0\n",
      "text            0\n",
      "context         0\n",
      "stance_label    0\n",
      "impact_label    0\n",
      "dtype: int64\n",
      "# of NULL value in valid data:\n",
      " id              0\n",
      "text            0\n",
      "context         0\n",
      "stance_label    0\n",
      "impact_label    0\n",
      "dtype: int64\n",
      "\n",
      "imbalance in train data\n",
      " IMPACTFUL        3021\n",
      "NOT_IMPACTFUL    1126\n",
      "MEDIUM_IMPACT    1023\n",
      "Name: impact_label, dtype: int64\n",
      "imbalance in valid data\n",
      " IMPACTFUL        641\n",
      "NOT_IMPACTFUL    252\n",
      "MEDIUM_IMPACT    215\n",
      "Name: impact_label, dtype: int64\n"
     ]
    }
   ],
   "source": [
    "# See Stats\n",
    "print('The shape of train data: ', train_raw.shape)\n",
    "print('The shape of valid data: ', valid_raw.shape)\n",
    "#print('The shape of test data: ', test_raw.shape)\n",
    "print('\\n# of NULL value in train data:\\n', train_raw.isnull().sum())\n",
    "print('# of NULL value in valid data:\\n', valid_raw.isnull().sum())\n",
    "#print('# of NULL value in valid data:\\n', test_raw.isnull().sum())\n",
    "\n",
    "train_imbalance = train_raw.impact_label.value_counts()\n",
    "valid_imbalance = valid_raw.impact_label.value_counts()\n",
    "print('\\nimbalance in train data\\n', train_imbalance)\n",
    "print('imbalance in valid data\\n', valid_imbalance)"
   ]
  },
  {
   "cell_type": "code",
   "execution_count": 9,
   "metadata": {
    "id": "lFGrnNRuji8c"
   },
   "outputs": [],
   "source": [
    "# determine class weight\n",
    "# from sklearn.utils.class_weight import compute_class_weight\n",
    "\n",
    "# class_weight = compute_class_weight('balanced',np.unique(train_label+valid_label),train_label+valid_label).astype(np.float64)\n",
    "# class_weight = torch.FloatTensor(class_weight)\n"
   ]
  },
  {
   "cell_type": "code",
   "execution_count": 10,
   "metadata": {
    "colab": {
     "base_uri": "https://localhost:8080/",
     "height": 204
    },
    "id": "Y7YzriAqwJLn",
    "outputId": "505042bd-a97a-405b-b836-2ca0960521d9"
   },
   "outputs": [
    {
     "data": {
      "text/html": [
       "<div>\n",
       "<style scoped>\n",
       "    .dataframe tbody tr th:only-of-type {\n",
       "        vertical-align: middle;\n",
       "    }\n",
       "\n",
       "    .dataframe tbody tr th {\n",
       "        vertical-align: top;\n",
       "    }\n",
       "\n",
       "    .dataframe thead th {\n",
       "        text-align: right;\n",
       "    }\n",
       "</style>\n",
       "<table border=\"1\" class=\"dataframe\">\n",
       "  <thead>\n",
       "    <tr style=\"text-align: right;\">\n",
       "      <th></th>\n",
       "      <th>id</th>\n",
       "      <th>text</th>\n",
       "      <th>context</th>\n",
       "      <th>stance_label</th>\n",
       "      <th>impact_label</th>\n",
       "    </tr>\n",
       "  </thead>\n",
       "  <tbody>\n",
       "    <tr>\n",
       "      <th>0</th>\n",
       "      <td>test_0</td>\n",
       "      <td>['Cloning animals advances science in that sci...</td>\n",
       "      <td>['Cloning animals is ethical', 'The possible s...</td>\n",
       "      <td>['NULL', 'SUPPORT', 'SUPPORT']</td>\n",
       "      <td>UNKNOWN</td>\n",
       "    </tr>\n",
       "    <tr>\n",
       "      <th>1</th>\n",
       "      <td>test_1</td>\n",
       "      <td>['Propaganda was widely used before the 20th c...</td>\n",
       "      <td>['Europeans, defined as citizens of what today...</td>\n",
       "      <td>['NULL', 'OPPOSE', 'SUPPORT', 'OPPOSE']</td>\n",
       "      <td>UNKNOWN</td>\n",
       "    </tr>\n",
       "    <tr>\n",
       "      <th>2</th>\n",
       "      <td>test_2</td>\n",
       "      <td>['Polygamous marriages bear a high likelihood ...</td>\n",
       "      <td>['Polygamy should be legal', 'Polygamy can hav...</td>\n",
       "      <td>['NULL', 'SUPPORT', 'SUPPORT']</td>\n",
       "      <td>UNKNOWN</td>\n",
       "    </tr>\n",
       "    <tr>\n",
       "      <th>3</th>\n",
       "      <td>test_3</td>\n",
       "      <td>['White supremacists threaten and endanger a v...</td>\n",
       "      <td>['Internet companies are wrong in denying serv...</td>\n",
       "      <td>['NULL', 'OPPOSE']</td>\n",
       "      <td>UNKNOWN</td>\n",
       "    </tr>\n",
       "    <tr>\n",
       "      <th>4</th>\n",
       "      <td>test_4</td>\n",
       "      <td>['Voters would be able to better determine the...</td>\n",
       "      <td>['Abolishing all aspects of privacy (through a...</td>\n",
       "      <td>['NULL', 'SUPPORT', 'SUPPORT']</td>\n",
       "      <td>UNKNOWN</td>\n",
       "    </tr>\n",
       "  </tbody>\n",
       "</table>\n",
       "</div>"
      ],
      "text/plain": [
       "       id  ... impact_label\n",
       "0  test_0  ...      UNKNOWN\n",
       "1  test_1  ...      UNKNOWN\n",
       "2  test_2  ...      UNKNOWN\n",
       "3  test_3  ...      UNKNOWN\n",
       "4  test_4  ...      UNKNOWN\n",
       "\n",
       "[5 rows x 5 columns]"
      ]
     },
     "execution_count": 10,
     "metadata": {
      "tags": []
     },
     "output_type": "execute_result"
    }
   ],
   "source": [
    "test_raw.head()"
   ]
  },
  {
   "cell_type": "code",
   "execution_count": 11,
   "metadata": {
    "colab": {
     "base_uri": "https://localhost:8080/",
     "height": 181,
     "referenced_widgets": [
      "ffb270e803ad496cac012404947a92e7",
      "90572324556046e5ba7e9aab7a530c27",
      "95fb8eb70aaa452dac8c63bc41fbfe34",
      "e75b418f226f46cb8f82cfe27ee66483",
      "bad2c49d2f974ce8b33b068556c2d77b",
      "aab0245a5fff45f795593a9891c6c636",
      "4825b178430341328a4af4b10f910a5b",
      "bb2519d85a254bf28785b23063523a6d",
      "7d465dcddd834aaeaee2aa97017de068",
      "f0ad3cdde72c4932ad1f420b0c084dbc",
      "b18e4143cccc4d70a1a8b7821f7df5b7",
      "db8c964350e74a7abcb0c9dffdb48ae1",
      "fd8b96c231ec45c8a38031a379af41d1",
      "93752298509a42f88ece3864dbc0d9ad",
      "1cc5adbdb6014dc8bc4762b02361530b",
      "2c7ef4f6fa884f27a97e334d8f01cb8d",
      "8559b215542c4e03ae60aa0ed865a228",
      "f73fcf5de53c4d16a62cfcef04169440",
      "524f5a3e8b304c45a765bb0c2d7ab0ff",
      "bdf69fb63b3b442bad2b7c4f3f6d60f9",
      "32f9dd77506b4a82abff07536ca95e6b",
      "0f84aa29d28146eb830323fb075962e9",
      "6aa3cb5c893c4d91b20ed6e18b0416f1",
      "10403509e2334a45b8b01345b92744e6"
     ]
    },
    "id": "4Pd2OllQwJLn",
    "outputId": "55a9a72a-0379-4757-d7cf-351a54663f37"
   },
   "outputs": [
    {
     "data": {
      "application/vnd.jupyter.widget-view+json": {
       "model_id": "ffb270e803ad496cac012404947a92e7",
       "version_major": 2,
       "version_minor": 0
      },
      "text/plain": [
       "HBox(children=(FloatProgress(value=0.0, description='Downloading', max=231508.0, style=ProgressStyle(descripti…"
      ]
     },
     "metadata": {
      "tags": []
     },
     "output_type": "display_data"
    },
    {
     "name": "stdout",
     "output_type": "stream",
     "text": [
      "\n"
     ]
    },
    {
     "data": {
      "application/vnd.jupyter.widget-view+json": {
       "model_id": "7d465dcddd834aaeaee2aa97017de068",
       "version_major": 2,
       "version_minor": 0
      },
      "text/plain": [
       "HBox(children=(FloatProgress(value=0.0, description='Downloading', max=28.0, style=ProgressStyle(description_w…"
      ]
     },
     "metadata": {
      "tags": []
     },
     "output_type": "display_data"
    },
    {
     "name": "stdout",
     "output_type": "stream",
     "text": [
      "\n"
     ]
    },
    {
     "data": {
      "application/vnd.jupyter.widget-view+json": {
       "model_id": "8559b215542c4e03ae60aa0ed865a228",
       "version_major": 2,
       "version_minor": 0
      },
      "text/plain": [
       "HBox(children=(FloatProgress(value=0.0, description='Downloading', max=466062.0, style=ProgressStyle(descripti…"
      ]
     },
     "metadata": {
      "tags": []
     },
     "output_type": "display_data"
    },
    {
     "name": "stdout",
     "output_type": "stream",
     "text": [
      "\n",
      "Max length:  442\n"
     ]
    }
   ],
   "source": [
    "# find MAX_LENGTH\n",
    "tokenizer = BertTokenizer.from_pretrained('bert-base-uncased')\n",
    "all_data = train_context+train_text\\\n",
    "            +valid_context+valid_text\\\n",
    "            +test_context+test_text\n",
    "sents_encode = [tokenizer.encode(sent, add_special_tokens=True) for sent in all_data]\n",
    "sent_lens = [len(sent) for sent in sents_encode]\n",
    "print('Max length: ', max(sent_lens))"
   ]
  },
  {
   "cell_type": "code",
   "execution_count": 13,
   "metadata": {
    "colab": {
     "base_uri": "https://localhost:8080/",
     "height": 279
    },
    "id": "KAWBQqj1wJLo",
    "outputId": "c654667f-ae34-49a5-ba29-f0c7fa832a59"
   },
   "outputs": [
    {
     "data": {
      "image/png": "[encoded data removed]",
      "text/plain": [
       "<Figure size 432x288 with 1 Axes>"
      ]
     },
     "metadata": {
      "needs_background": "light",
      "tags": []
     },
     "output_type": "display_data"
    }
   ],
   "source": [
    "import seaborn as sns\n",
    "sns.histplot(sent_lens)\n",
    "plt.xlim([0,512])\n",
    "plt.xlabel('Sent Len');"
   ]
  },
  {
   "cell_type": "markdown",
   "metadata": {
    "id": "zImjZTqk2lhf"
   },
   "source": [
    "## Data Preprocessing Method 2"
   ]
  },
  {
   "cell_type": "code",
   "execution_count": 14,
   "metadata": {
    "id": "q5ZWJcUk2lhf"
   },
   "outputs": [],
   "source": [
    "# df1 = pd.read_csv(\"train.csv\")\n",
    "# df2 = pd.read_csv(\"valid.csv\")\n",
    "# df = df1.append(df2)\n",
    "# df.shape"
   ]
  },
  {
   "cell_type": "code",
   "execution_count": 15,
   "metadata": {
    "id": "XjucVo7n2lhf"
   },
   "outputs": [],
   "source": [
    "# plt.style.use('ggplot')\n",
    "# sns.countplot(df.impact_label)\n",
    "# plt.xlabel('label')"
   ]
  },
  {
   "cell_type": "code",
   "execution_count": 16,
   "metadata": {
    "id": "LrbY6DCz2lhf"
   },
   "outputs": [],
   "source": [
    "# def to_numerical(label):\n",
    "#     if label == \"IMPACTFUL\":\n",
    "#         return 2\n",
    "#     elif label == \"MEDIUM_IMPACT\":\n",
    "#         return 1\n",
    "#     else:\n",
    "#         return 0\n",
    "# df[\"impact_label\"] = df.impact_label.apply(to_numerical)"
   ]
  },
  {
   "cell_type": "code",
   "execution_count": 17,
   "metadata": {
    "id": "bl0Y3loI2lhg"
   },
   "outputs": [],
   "source": [
    "# def processtext(x):\n",
    "#     text = x\n",
    "#     text = text.replace('[','').replace(']','')\n",
    "#     text = text.replace('\\\"','\\'')\n",
    "#     return text\n",
    "\n",
    "# def process_stance(x):\n",
    "#     text = x\n",
    "#     text = text.replace('[','').replace(']','')\n",
    "#     return text"
   ]
  },
  {
   "cell_type": "code",
   "execution_count": 18,
   "metadata": {
    "id": "cgRmC4_02lhg"
   },
   "outputs": [],
   "source": [
    "# df.context = df.context.apply(lambda x : processtext(x))\n",
    "# df.stance_label = df.stance_label.apply(lambda x : process_stance(x))"
   ]
  },
  {
   "cell_type": "code",
   "execution_count": 19,
   "metadata": {
    "id": "UbJy_h0k2lhg"
   },
   "outputs": [],
   "source": [
    "# def merge_stance1(text, stance_label):   # combine the text with the last stance label word in 'stance_label'\n",
    "#     label_list = stance_label.split(',')\n",
    "#     label_list.insert(0, label_list[-1])\n",
    "#     label_list.pop()\n",
    "#     output_list = text + label_list[0]\n",
    "#     return output_list\n",
    "\n",
    "# def merge_stance2(context, stance_label): # combine all the  sentence in context with the corresponding stance label\n",
    "#     label_list = stance_label.split(',')\n",
    "#     label_list.insert(0, label_list[-1])\n",
    "#     label_list.pop()\n",
    "#     context_list = context.split(\"\\', \\'\")\n",
    "#     output_list = []\n",
    "#     num = len(label_list) - 1\n",
    "#     for i in range(num):\n",
    "#         output_list.append(context_list[i] + label_list[i+1])\n",
    "#     return output_list"
   ]
  },
  {
   "cell_type": "code",
   "execution_count": 20,
   "metadata": {
    "id": "biZZRE1t2lhg"
   },
   "outputs": [],
   "source": [
    "# df['text_with_stance'] = df[[\"text\", \"stance_label\"]].apply(lambda x : merge_stance1(x[\"text\"], x[\"stance_label\"]), axis=1)\n",
    "# df['context_with_stance'] = df[[\"context\", \"stance_label\"]].apply(lambda x : merge_stance2(x[\"context\"], x[\"stance_label\"]), axis=1)\n",
    "# df['context_with_stance'] = df['context_with_stance'].str.join(' ')\n",
    "# df.index = range(len(df))\n",
    "# pd.DataFrame(df,columns = ['text_with_stance', 'context_with_stance', 'impact_label']).to_csv(\"train1.csv\")"
   ]
  },
  {
   "cell_type": "code",
   "execution_count": 21,
   "metadata": {
    "id": "TIql0Kuz2lhh"
   },
   "outputs": [],
   "source": [
    "# df_test = pd.read_csv(\"test.csv\")\n",
    "# df_test['text'] = df_test.text.apply(lambda x : processtext(x))\n",
    "# df_test['context'] = df_test.context.apply(lambda x : processtext(x))\n",
    "# df_test.stance_label = df_test.stance_label.apply(lambda x : process_stance(x))\n",
    "# df_test['context_with_stance'] = df_test[[\"context\", \"stance_label\"]].apply(lambda x : merge_stance2(x[\"context\"], x[\"stance_label\"]), axis=1)\n",
    "# df_test['text_with_stance'] = df_test[[\"text\", \"stance_label\"]].apply(lambda x : merge_stance1(x[\"text\"], x[\"stance_label\"]), axis=1)\n",
    "# df_test['context_with_stance'] = df_test['context_with_stance'].str.join(' ')\n",
    "# df_test.index = range(len(df_test))\n",
    "# pd.DataFrame(df_test,columns = ['text_with_stance', 'context_with_stance']).to_csv('test1.csv', index = False)"
   ]
  },
  {
   "cell_type": "markdown",
   "metadata": {
    "id": "rIEskoHowJLn"
   },
   "source": [
    "## 2. Model: BERT\n"
   ]
  },
  {
   "cell_type": "markdown",
   "metadata": {
    "id": "Pjv4_gK2wJLo"
   },
   "source": [
    "### 2.1 bert pipeline\n",
    "\n",
    "- Load Data\n",
    "  - class BertDataPreprocessor: to make all data into BERT input.\n",
    "  - def data_loader: to transfer datasets into the form of PyTorch DataLoader.\n",
    "- Define Model\n",
    "  - BERT (pooler_output/last_hidden_state)\n",
    "  - dropout\n",
    "  - linear\n",
    "- Train Model\n",
    "  - train and eval\n",
    "  - train on the whole dataset"
   ]
  },
  {
   "cell_type": "code",
   "execution_count": 22,
   "metadata": {
    "colab": {
     "base_uri": "https://localhost:8080/",
     "height": 115,
     "referenced_widgets": [
      "3aa3c6dded7f4cc59667334e5187850e",
      "35119b6217794ec79b81dec10fbf6f79",
      "7a4421cdae2c43cc9cf408ba287c146d",
      "ac778c44c7e543aab5ccc9c86ca65e7d",
      "d8a90ca80d5349f5bf9379a47848beee",
      "bb4d871da6604626b8515159c2744a7d",
      "3883bbc06817450e86e9288a3cdca389",
      "c211e895b3fe41b59dc31045fde4b890",
      "580a9f37eacf4b55852911e3c6986dca",
      "6b46c1d1f3e84cf6b13b05f3b7c13918",
      "7918c9d2251341298180f3e02c7e17e4",
      "7ab1331bb5a34958b6e0c1cb42c836ac",
      "c8ef30fb1d0f43558665016e7e5ac4d9",
      "43f8f9fc7c524f1db79564a42d6759e5",
      "7cea58186f8d477d84286d1cf2ad450c",
      "188ecc363a74458aa57b3fcd9c599b92"
     ]
    },
    "id": "ArPoPhmpwJLo",
    "outputId": "2a0c8d17-4842-40ea-c4c0-30bc5ce5e2cb"
   },
   "outputs": [
    {
     "data": {
      "application/vnd.jupyter.widget-view+json": {
       "model_id": "3aa3c6dded7f4cc59667334e5187850e",
       "version_major": 2,
       "version_minor": 0
      },
      "text/plain": [
       "HBox(children=(FloatProgress(value=0.0, description='Downloading', max=433.0, style=ProgressStyle(description_…"
      ]
     },
     "metadata": {
      "tags": []
     },
     "output_type": "display_data"
    },
    {
     "name": "stdout",
     "output_type": "stream",
     "text": [
      "\n"
     ]
    },
    {
     "data": {
      "application/vnd.jupyter.widget-view+json": {
       "model_id": "580a9f37eacf4b55852911e3c6986dca",
       "version_major": 2,
       "version_minor": 0
      },
      "text/plain": [
       "HBox(children=(FloatProgress(value=0.0, description='Downloading', max=440473133.0, style=ProgressStyle(descri…"
      ]
     },
     "metadata": {
      "tags": []
     },
     "output_type": "display_data"
    },
    {
     "name": "stdout",
     "output_type": "stream",
     "text": [
      "\n"
     ]
    }
   ],
   "source": [
    "# Hyperparameters: for tuning\n",
    "\n",
    "PRETRAINED_MODEL = 'bert-base-uncased'  # 'xlnet-base-cased','distilbert'\n",
    "MAX_LENGTH = 256  # 512\n",
    "BATCH_SIZE = 32\n",
    "EPOCHS = 8\n",
    "\n",
    "bert_model = BertModel.from_pretrained(PRETRAINED_MODEL)\n",
    "tokenizer = BertTokenizer.from_pretrained(PRETRAINED_MODEL)"
   ]
  },
  {
   "cell_type": "markdown",
   "metadata": {
    "id": "7_3SjGYB2lhh"
   },
   "source": [
    "##### We also merge the train and valid data together as a whole and split into new train and valid data"
   ]
  },
  {
   "cell_type": "code",
   "execution_count": 23,
   "metadata": {
    "colab": {
     "base_uri": "https://localhost:8080/"
    },
    "id": "b3MbebNbwJLo",
    "outputId": "d93a3e66-e7c9-4e33-e2ab-58cc5f821cf8"
   },
   "outputs": [
    {
     "name": "stderr",
     "output_type": "stream",
     "text": [
      "/usr/local/lib/python3.7/dist-packages/torch/utils/data/dataloader.py:477: UserWarning: This DataLoader will create 4 worker processes in total. Our suggested max number of worker in current system is 2, which is smaller than what this DataLoader is going to create. Please be aware that excessive worker creation might get DataLoader running slow or even freeze, lower the worker number to avoid potential slowness/freeze if necessary.\n",
      "  cpuset_checked))\n"
     ]
    }
   ],
   "source": [
    "# Data Loader: transfer data into BERT input\n",
    "\n",
    "class BertDataPreprocessor():\n",
    "    def __init__(self, text, context, label, tokenizer, max_len):\n",
    "        self.text = text\n",
    "        self.context = context\n",
    "        self.label = label\n",
    "        self.tokenizer = tokenizer\n",
    "        self.max_len = max_len\n",
    "    \n",
    "    def __len__(self):\n",
    "        return len(self.text)\n",
    "    \n",
    "    def __getitem__(self, item):\n",
    "        context = self.context[item]\n",
    "        text = self.text[item]\n",
    "        label = self.label[item]\n",
    "        \n",
    "        encoding = self.tokenizer.encode_plus(\n",
    "            #context,\n",
    "            text,\n",
    "            context,\n",
    "            add_special_tokens=True,\n",
    "            max_length=self.max_len,\n",
    "            return_token_type_ids=False,\n",
    "            padding='max_length',\n",
    "            truncation=True,\n",
    "            return_attention_mask=True,\n",
    "            return_tensors='pt',\n",
    "        )\n",
    "        \n",
    "        return {'context':context, 'text':text, 'input_ids': encoding['input_ids'].flatten(),\n",
    "                'attention_mask': encoding['attention_mask'].flatten(),\n",
    "                'label': torch.tensor(label, dtype=torch.long)}\n",
    "        # token_type_ids = encoded_pair['token_type_ids'].squeeze(0)  \n",
    "\n",
    "\n",
    "def data_loader(text, context, label, tokenizer, max_len, batch_size):\n",
    "    data = BertDataPreprocessor(\n",
    "        text=text,\n",
    "        context=context,\n",
    "        label=label,\n",
    "        tokenizer=tokenizer,\n",
    "        max_len=max_len\n",
    "    )\n",
    "    \n",
    "    return DataLoader(data, batch_size=batch_size,num_workers=4)\n",
    "\n",
    "\n",
    "# ---Train Model 1.0: train and eval---\n",
    "train_data_loader = data_loader(train_text, train_context, train_label, tokenizer, MAX_LENGTH, BATCH_SIZE)\n",
    "valid_data_loader = data_loader(valid_text, valid_context, valid_label, tokenizer, MAX_LENGTH, BATCH_SIZE)\n",
    "test_data_loader = data_loader(test_text, test_context, test_label, tokenizer, MAX_LENGTH, BATCH_SIZE)\n",
    "\n",
    "\n",
    "# ---Train Model 2.0: train the whole dataset---\n",
    "# train_text_full = train_text + valid_text\n",
    "# train_context_full = train_context + valid_context\n",
    "# train_label_full = train_label + valid_label\n",
    "\n",
    "# train_data_loader = data_loader(train_text_full, train_context_full, train_label_full, tokenizer, MAX_LENGTH, BATCH_SIZE)\n",
    "# test_data_loader = data_loader(test_text, test_context, test_label, tokenizer, MAX_LENGTH, BATCH_SIZE)\n",
    "    "
   ]
  },
  {
   "cell_type": "code",
   "execution_count": 24,
   "metadata": {
    "colab": {
     "base_uri": "https://localhost:8080/"
    },
    "id": "ynT7p4NPwJLp",
    "outputId": "92b1c397-f19f-428b-c9ce-32853411ca0b"
   },
   "outputs": [
    {
     "name": "stderr",
     "output_type": "stream",
     "text": [
      "/usr/local/lib/python3.7/dist-packages/torch/utils/data/dataloader.py:477: UserWarning: This DataLoader will create 4 worker processes in total. Our suggested max number of worker in current system is 2, which is smaller than what this DataLoader is going to create. Please be aware that excessive worker creation might get DataLoader running slow or even freeze, lower the worker number to avoid potential slowness/freeze if necessary.\n",
      "  cpuset_checked))\n"
     ]
    },
    {
     "name": "stdout",
     "output_type": "stream",
     "text": [
      "torch.Size([32, 256])\n",
      "torch.Size([32, 256])\n",
      "torch.Size([32])\n"
     ]
    }
   ],
   "source": [
    "# check output\n",
    "data = next(iter(train_data_loader))\n",
    "data.keys()\n",
    "print(data['input_ids'].shape)\n",
    "print(data['attention_mask'].shape)\n",
    "print(data['label'].shape)"
   ]
  },
  {
   "cell_type": "code",
   "execution_count": 25,
   "metadata": {
    "id": "NpAQ-4GiwJLp"
   },
   "outputs": [],
   "source": [
    "# Define Model\n",
    "\n",
    "class BertClassifier(nn.Module):\n",
    "    def __init__(self, pretrained_model, num_class):\n",
    "        super(BertClassifier,self).__init__()\n",
    "        self.bert = pretrained_model  #BertModel.from_pretrained('bert-base-uncased')\n",
    "        self.dropout = nn.Dropout(p=0.5)\n",
    "        self.linear = nn.Sequential(\n",
    "                      nn.Linear(self.bert.config.hidden_size, 128),\n",
    "                      nn.ReLU(),\n",
    "                      nn.Dropout(p=0.5),\n",
    "                      nn.Linear(128, num_class)\n",
    "        )\n",
    "#         self.linear = nn.Linear(self.bert.config.hidden_size, num_class)\n",
    "        \n",
    "    def forward(self, input_ids, attention_mask):\n",
    "        res = self.bert(input_ids=input_ids, attention_mask=attention_mask)\n",
    "        res = self.dropout(res['last_hidden_state'][:,0,:])  # res['last_hidden_state'][:,0,:], res['pooler_output']\n",
    "        res = self.linear(res)\n",
    "        return res\n",
    "\n",
    "# settings\n",
    "net = BertClassifier(bert_model, len(class_to_label)).to(device)\n",
    "#print(net)\n",
    "\n",
    "optimizor = AdamW(net.parameters(), lr=2e-5, correct_bias=False)\n",
    "loss_func = nn.CrossEntropyLoss().to(device)\n",
    "\n",
    "total_steps = len(train_data_loader) * EPOCHS\n",
    "scheduler = get_linear_schedule_with_warmup(optimizer=optimizor, num_warmup_steps=0, num_training_steps=total_steps)\n"
   ]
  },
  {
   "cell_type": "code",
   "execution_count": 26,
   "metadata": {
    "id": "tYCHzooS2lhj"
   },
   "outputs": [],
   "source": [
    "# def set_seed(seed):\n",
    "#     \"\"\" Set all seeds to make results reproducible \"\"\"\n",
    "#     torch.manual_seed(seed)\n",
    "#     torch.cuda.manual_seed_all(seed)\n",
    "#     torch.backends.cudnn.deterministic = True\n",
    "#     torch.backends.cudnn.benchmark = False\n",
    "#     np.random.seed(seed)\n",
    "#     random.seed(seed)\n",
    "#     os.environ['PYTHONHASHSEED'] = str(seed)"
   ]
  },
  {
   "cell_type": "code",
   "execution_count": 27,
   "metadata": {
    "id": "C9XE7XBd2lhj"
   },
   "outputs": [],
   "source": [
    "# def train_test_split(data_df, test_size=0.2, shuffle=True, random_state=None):\n",
    "#     if shuffle:\n",
    "#         data_df = reset(data_df, random_state=random_state)\n",
    "\t\n",
    "#     train = data_df[int(len(data_df)*test_size):].reset_index(drop = True)\n",
    "#     test  = data_df[:int(len(data_df)*test_size)].reset_index(drop = True)\n",
    "\n",
    "#     return train, test"
   ]
  },
  {
   "cell_type": "code",
   "execution_count": 28,
   "metadata": {
    "id": "oD8NS-gnwJLq"
   },
   "outputs": [],
   "source": [
    "def train_model(net, data_loader, optimizor, loss_func, scheduler, num_data, device):\n",
    "    net = net.train()  # open up dropout and normalization\n",
    "    preds, total_l, correct = [], [], 0\n",
    "    \n",
    "    for data in data_loader:\n",
    "        # data\n",
    "        input_ids, attention_mask = data['input_ids'].to(device), data['attention_mask'].to(device)\n",
    "        y = data['label'].to(device)\n",
    "        \n",
    "        # pipeline\n",
    "        output = net(input_ids=input_ids, attention_mask=attention_mask)\n",
    "        _, pred = torch.max(output,dim=1)  # values, indices = torch.max(), use indices to reflect pred_labels\n",
    "        loss = loss_func(output,y)\n",
    "        \n",
    "        loss.backward()\n",
    "        \n",
    "        nn.utils.clip_grad_norm_(net.parameters(), max_norm=1.0)\n",
    "        \n",
    "        optimizor.step()\n",
    "        scheduler.step()\n",
    "        \n",
    "        optimizor.zero_grad()\n",
    "        \n",
    "        # record stats\n",
    "        preds.append(pred)\n",
    "        correct += torch.sum(pred==y)\n",
    "        total_l.append(loss.item())\n",
    "\n",
    "        \n",
    "    return correct.double()/num_data, np.mean(total_l), torch.cat(preds, dim=0).cpu()\n",
    "\n",
    "def eval_model(net, data_loader, loss_func, num_data, device):\n",
    "    net = net.eval() \n",
    "    preds, total_l, correct = [], [], 0\n",
    "    \n",
    "    with torch.no_grad():\n",
    "        for data in data_loader:\n",
    "            # data\n",
    "            input_ids, attention_mask = data['input_ids'].to(device), data['attention_mask'].to(device)\n",
    "            y = data['label'].to(device)\n",
    "        \n",
    "            # pipeline: just foward\n",
    "            output = net(input_ids=input_ids, attention_mask=attention_mask)\n",
    "            _, pred = torch.max(output,dim=1)  \n",
    "            loss = loss_func(output,y)\n",
    "        \n",
    "            # record stats\n",
    "            preds.append(pred)\n",
    "            correct += torch.sum(pred==y)\n",
    "            total_l.append(loss.item())\n",
    "    \n",
    "    return correct.double()/num_data, np.mean(total_l), torch.cat(preds, dim=0).cpu()\n",
    "\n",
    "def test_model(net, data_loader):\n",
    "    net = net.eval()\n",
    "    preds, pred_probs = [],[]\n",
    "    \n",
    "    with torch.no_grad():\n",
    "        for data in data_loader:\n",
    "            # data\n",
    "            input_ids, attention_mask = data['input_ids'].to(device), data['attention_mask'].to(device)\n",
    "            y = data['label'].to(device)\n",
    "            \n",
    "            # pipeline\n",
    "            output = net(input_ids=input_ids, attention_mask=attention_mask)\n",
    "            _, pred = torch.max(output,dim=1)\n",
    "            \n",
    "            preds.extend(pred.cpu())\n",
    "            #pred_prob = nn.functional.softmax(output, dim=1)\n",
    "            #pred_probs.extend(pred_prob)\n",
    "            \n",
    "        predictions = torch.stack(preds).cpu().numpy()\n",
    "        #prediction_probs = torch.stack(prediction_probs).cpu()\n",
    "        return predictions"
   ]
  },
  {
   "cell_type": "code",
   "execution_count": null,
   "metadata": {
    "colab": {
     "base_uri": "https://localhost:8080/"
    },
    "id": "G7-RDIkgwJLq",
    "outputId": "f4f92542-1121-4c43-943a-c775855b0f67"
   },
   "outputs": [
    {
     "name": "stderr",
     "output_type": "stream",
     "text": [
      "/usr/local/lib/python3.7/dist-packages/torch/utils/data/dataloader.py:477: UserWarning: This DataLoader will create 4 worker processes in total. Our suggested max number of worker in current system is 2, which is smaller than what this DataLoader is going to create. Please be aware that excessive worker creation might get DataLoader running slow or even freeze, lower the worker number to avoid potential slowness/freeze if necessary.\n",
      "  cpuset_checked))\n"
     ]
    }
   ],
   "source": [
    "# Train Model 1.0: train and eval \n",
    "\n",
    "train_history, lowest_loss, best_f1 = defaultdict(list), 10, 0\n",
    "\n",
    "for epoch in range(EPOCHS):\n",
    "    # tain\n",
    "    train_acc, train_loss, train_preds = train_model(net, train_data_loader, optimizor, loss_func,\\\n",
    "                                        scheduler, len(train_text), device)\n",
    "    # show stats\n",
    "    train_f1 = f1_score(train_label, train_preds, average='macro')\n",
    "    print('--------------')\n",
    "    print('Epoch: %d/%d \\n Train_loss: %f, Train_acc: %.4f%%, Train_F1_Macro: %f'\\\n",
    "          %((epoch+1), EPOCHS, train_loss, train_acc*100, train_f1))\n",
    "    \n",
    "    # validate\n",
    "    valid_acc, valid_loss, valid_preds = eval_model(net, valid_data_loader, loss_func, len(valid_text), device)\n",
    "    # show stats\n",
    "    valid_f1 = f1_score(valid_label, valid_preds, average='macro')\n",
    "    print('Epoch: %d/%d \\n Valid_loss: %f, Valid_acc: %.4f%%, Valid_F1_Macro: %f'\\\n",
    "          %((epoch+1), EPOCHS, valid_loss, valid_acc*100, valid_f1))\n",
    "    \n",
    "    train_history['train_acc'].append(train_acc)\n",
    "    train_history['train_f1'].append(train_f1)\n",
    "    train_history['train_loss'].append(train_loss)\n",
    "    train_history['val_acc'].append(valid_acc)\n",
    "    train_history['valid_f1'].append(valid_f1)\n",
    "    train_history['val_loss'].append(valid_loss)\n",
    "\n",
    "    if valid_f1 > best_f1:\n",
    "        torch.save(net.state_dict(), 'model_saved/bert_clf_329_f1_1.h')\n",
    "        best_f1 = valid_f1\n",
    "    if valid_loss < lowest_loss:\n",
    "        torch.save(net.state_dict(), 'model_saved/bert_clf_329_loss_1.h')\n",
    "        lowest_loss = valid_loss\n",
    "    "
   ]
  },
  {
   "cell_type": "code",
   "execution_count": null,
   "metadata": {
    "id": "6LQ3oYO372JR"
   },
   "outputs": [],
   "source": []
  },
  {
   "cell_type": "code",
   "execution_count": null,
   "metadata": {
    "id": "sOu2CH_fwJLr"
   },
   "outputs": [],
   "source": [
    "# # Train Model 2.0: train the whole dataset (train+valid) \n",
    "\n",
    "# for epoch in range(EPOCHS):\n",
    "#     # tain\n",
    "#     train_acc, train_loss, train_preds = train_model(net, train_data_loader, optimizor, loss_func,\\\n",
    "#                                         scheduler, len(train_text_full), device)\n",
    "#     # show stats\n",
    "#     print('--------------')\n",
    "#     train_f1 = f1_score(train_label, train_preds, average='macro')\n",
    "# print('Epoch: %d/%d \\n Train_loss: %f, Train_acc: %.4f%%, Train_F1_Macro: %f'\\\n",
    "#         %((epoch+1), EPOCHS, train_loss, train_acc*100, train_f1))\n",
    "      \n",
    "#torch.save(net.state_dict(), 'model_saved/bert_clf_0.h')"
   ]
  },
  {
   "cell_type": "code",
   "execution_count": null,
   "metadata": {
    "id": "hSIVdHTyAr7W"
   },
   "outputs": [],
   "source": [
    "# Save Model\n",
    "# torch.save(net.state_dict(), 'model_saved/bert_clf_0.h')"
   ]
  },
  {
   "cell_type": "markdown",
   "metadata": {
    "id": "82Hl6iup7oO8"
   },
   "source": [
    "### 2.2 predict and submit\n"
   ]
  },
  {
   "cell_type": "code",
   "execution_count": null,
   "metadata": {
    "id": "i6b_EEe47mAK"
   },
   "outputs": [],
   "source": [
    "# Make Predictions\n",
    "\n",
    "net = BertClassifier(bert_model, len(class_to_label))\n",
    "net.load_state_dict(torch.load('model_saved/bert_clf_329_1.h'))\n",
    "net = net.to(device)\n",
    "\n",
    "predictions = test_model(net,test_data_loader)\n"
   ]
  },
  {
   "cell_type": "code",
   "execution_count": null,
   "metadata": {
    "id": "2Ie-u83770k1"
   },
   "outputs": [],
   "source": [
    "# check output\n",
    "print(len(predictions),type(predictions))"
   ]
  },
  {
   "cell_type": "code",
   "execution_count": null,
   "metadata": {
    "id": "WNeXXlxBzQan"
   },
   "outputs": [],
   "source": [
    "# Submit\n",
    "\n",
    "submission = pd.read_csv('data/submission_sample.csv')\n",
    "submission['pred'] = pd.Series(predictions)\n",
    "submission.to_csv('3300.csv', index=False)\n"
   ]
  },
  {
   "cell_type": "code",
   "execution_count": null,
   "metadata": {
    "id": "794yj3LizQkA"
   },
   "outputs": [],
   "source": []
  }
 ],
 "metadata": {
  "accelerator": "GPU",
  "colab": {
   "collapsed_sections": [],
   "name": "14_project1_bert_classifier.ipynb",
   "provenance": [],
   "toc_visible": true
  },
  "kernelspec": {
   "display_name": "Python 3",
   "language": "python",
   "name": "python3"
  },
  "language_info": {
   "codemirror_mode": {
    "name": "ipython",
    "version": 3
   },
   "file_extension": ".py",
   "mimetype": "text/x-python",
   "name": "python",
   "nbconvert_exporter": "python",
   "pygments_lexer": "ipython3",
   "version": "3.7.4"
  },
  "toc": {
   "base_numbering": 1,
   "nav_menu": {},
   "number_sections": true,
   "sideBar": true,
   "skip_h1_title": false,
   "title_cell": "Table of Contents",
   "title_sidebar": "Contents",
   "toc_cell": false,
   "toc_position": {},
   "toc_section_display": true,
   "toc_window_display": false
  },
  "varInspector": {
   "cols": {
    "lenName": 16,
    "lenType": 16,
    "lenVar": 40
   },
   "kernels_config": {
    "python": {
     "delete_cmd_postfix": "",
     "delete_cmd_prefix": "del ",
     "library": "var_list.py",
     "varRefreshCmd": "print(var_dic_list())"
    },
    "r": {
     "delete_cmd_postfix": ") ",
     "delete_cmd_prefix": "rm(",
     "library": "var_list.r",
     "varRefreshCmd": "cat(var_dic_list()) "
    }
   },
   "types_to_exclude": [
    "module",
    "function",
    "builtin_function_or_method",
    "instance",
    "_Feature"
   ],
   "window_display": false
  },
  "widgets": {
   "application/vnd.jupyter.widget-state+json": {
    "0f84aa29d28146eb830323fb075962e9": {
     "model_module": "@jupyter-widgets/base",
     "model_name": "LayoutModel",
     "state": {
      "_model_module": "@jupyter-widgets/base",
      "_model_module_version": "1.2.0",
      "_model_name": "LayoutModel",
      "_view_count": null,
      "_view_module": "@jupyter-widgets/base",
      "_view_module_version": "1.2.0",
      "_view_name": "LayoutView",
      "align_content": null,
      "align_items": null,
      "align_self": null,
      "border": null,
      "bottom": null,
      "display": null,
      "flex": null,
      "flex_flow": null,
      "grid_area": null,
      "grid_auto_columns": null,
      "grid_auto_flow": null,
      "grid_auto_rows": null,
      "grid_column": null,
      "grid_gap": null,
      "grid_row": null,
      "grid_template_areas": null,
      "grid_template_columns": null,
      "grid_template_rows": null,
      "height": null,
      "justify_content": null,
      "justify_items": null,
      "left": null,
      "margin": null,
      "max_height": null,
      "max_width": null,
      "min_height": null,
      "min_width": null,
      "object_fit": null,
      "object_position": null,
      "order": null,
      "overflow": null,
      "overflow_x": null,
      "overflow_y": null,
      "padding": null,
      "right": null,
      "top": null,
      "visibility": null,
      "width": null
     }
    },
    "10403509e2334a45b8b01345b92744e6": {
     "model_module": "@jupyter-widgets/base",
     "model_name": "LayoutModel",
     "state": {
      "_model_module": "@jupyter-widgets/base",
      "_model_module_version": "1.2.0",
      "_model_name": "LayoutModel",
      "_view_count": null,
      "_view_module": "@jupyter-widgets/base",
      "_view_module_version": "1.2.0",
      "_view_name": "LayoutView",
      "align_content": null,
      "align_items": null,
      "align_self": null,
      "border": null,
      "bottom": null,
      "display": null,
      "flex": null,
      "flex_flow": null,
      "grid_area": null,
      "grid_auto_columns": null,
      "grid_auto_flow": null,
      "grid_auto_rows": null,
      "grid_column": null,
      "grid_gap": null,
      "grid_row": null,
      "grid_template_areas": null,
      "grid_template_columns": null,
      "grid_template_rows": null,
      "height": null,
      "justify_content": null,
      "justify_items": null,
      "left": null,
      "margin": null,
      "max_height": null,
      "max_width": null,
      "min_height": null,
      "min_width": null,
      "object_fit": null,
      "object_position": null,
      "order": null,
      "overflow": null,
      "overflow_x": null,
      "overflow_y": null,
      "padding": null,
      "right": null,
      "top": null,
      "visibility": null,
      "width": null
     }
    },
    "188ecc363a74458aa57b3fcd9c599b92": {
     "model_module": "@jupyter-widgets/base",
     "model_name": "LayoutModel",
     "state": {
      "_model_module": "@jupyter-widgets/base",
      "_model_module_version": "1.2.0",
      "_model_name": "LayoutModel",
      "_view_count": null,
      "_view_module": "@jupyter-widgets/base",
      "_view_module_version": "1.2.0",
      "_view_name": "LayoutView",
      "align_content": null,
      "align_items": null,
      "align_self": null,
      "border": null,
      "bottom": null,
      "display": null,
      "flex": null,
      "flex_flow": null,
      "grid_area": null,
      "grid_auto_columns": null,
      "grid_auto_flow": null,
      "grid_auto_rows": null,
      "grid_column": null,
      "grid_gap": null,
      "grid_row": null,
      "grid_template_areas": null,
      "grid_template_columns": null,
      "grid_template_rows": null,
      "height": null,
      "justify_content": null,
      "justify_items": null,
      "left": null,
      "margin": null,
      "max_height": null,
      "max_width": null,
      "min_height": null,
      "min_width": null,
      "object_fit": null,
      "object_position": null,
      "order": null,
      "overflow": null,
      "overflow_x": null,
      "overflow_y": null,
      "padding": null,
      "right": null,
      "top": null,
      "visibility": null,
      "width": null
     }
    },
    "1cc5adbdb6014dc8bc4762b02361530b": {
     "model_module": "@jupyter-widgets/controls",
     "model_name": "DescriptionStyleModel",
     "state": {
      "_model_module": "@jupyter-widgets/controls",
      "_model_module_version": "1.5.0",
      "_model_name": "DescriptionStyleModel",
      "_view_count": null,
      "_view_module": "@jupyter-widgets/base",
      "_view_module_version": "1.2.0",
      "_view_name": "StyleView",
      "description_width": ""
     }
    },
    "2c7ef4f6fa884f27a97e334d8f01cb8d": {
     "model_module": "@jupyter-widgets/base",
     "model_name": "LayoutModel",
     "state": {
      "_model_module": "@jupyter-widgets/base",
      "_model_module_version": "1.2.0",
      "_model_name": "LayoutModel",
      "_view_count": null,
      "_view_module": "@jupyter-widgets/base",
      "_view_module_version": "1.2.0",
      "_view_name": "LayoutView",
      "align_content": null,
      "align_items": null,
      "align_self": null,
      "border": null,
      "bottom": null,
      "display": null,
      "flex": null,
      "flex_flow": null,
      "grid_area": null,
      "grid_auto_columns": null,
      "grid_auto_flow": null,
      "grid_auto_rows": null,
      "grid_column": null,
      "grid_gap": null,
      "grid_row": null,
      "grid_template_areas": null,
      "grid_template_columns": null,
      "grid_template_rows": null,
      "height": null,
      "justify_content": null,
      "justify_items": null,
      "left": null,
      "margin": null,
      "max_height": null,
      "max_width": null,
      "min_height": null,
      "min_width": null,
      "object_fit": null,
      "object_position": null,
      "order": null,
      "overflow": null,
      "overflow_x": null,
      "overflow_y": null,
      "padding": null,
      "right": null,
      "top": null,
      "visibility": null,
      "width": null
     }
    },
    "32f9dd77506b4a82abff07536ca95e6b": {
     "model_module": "@jupyter-widgets/controls",
     "model_name": "ProgressStyleModel",
     "state": {
      "_model_module": "@jupyter-widgets/controls",
      "_model_module_version": "1.5.0",
      "_model_name": "ProgressStyleModel",
      "_view_count": null,
      "_view_module": "@jupyter-widgets/base",
      "_view_module_version": "1.2.0",
      "_view_name": "StyleView",
      "bar_color": null,
      "description_width": "initial"
     }
    },
    "35119b6217794ec79b81dec10fbf6f79": {
     "model_module": "@jupyter-widgets/base",
     "model_name": "LayoutModel",
     "state": {
      "_model_module": "@jupyter-widgets/base",
      "_model_module_version": "1.2.0",
      "_model_name": "LayoutModel",
      "_view_count": null,
      "_view_module": "@jupyter-widgets/base",
      "_view_module_version": "1.2.0",
      "_view_name": "LayoutView",
      "align_content": null,
      "align_items": null,
      "align_self": null,
      "border": null,
      "bottom": null,
      "display": null,
      "flex": null,
      "flex_flow": null,
      "grid_area": null,
      "grid_auto_columns": null,
      "grid_auto_flow": null,
      "grid_auto_rows": null,
      "grid_column": null,
      "grid_gap": null,
      "grid_row": null,
      "grid_template_areas": null,
      "grid_template_columns": null,
      "grid_template_rows": null,
      "height": null,
      "justify_content": null,
      "justify_items": null,
      "left": null,
      "margin": null,
      "max_height": null,
      "max_width": null,
      "min_height": null,
      "min_width": null,
      "object_fit": null,
      "object_position": null,
      "order": null,
      "overflow": null,
      "overflow_x": null,
      "overflow_y": null,
      "padding": null,
      "right": null,
      "top": null,
      "visibility": null,
      "width": null
     }
    },
    "3883bbc06817450e86e9288a3cdca389": {
     "model_module": "@jupyter-widgets/controls",
     "model_name": "DescriptionStyleModel",
     "state": {
      "_model_module": "@jupyter-widgets/controls",
      "_model_module_version": "1.5.0",
      "_model_name": "DescriptionStyleModel",
      "_view_count": null,
      "_view_module": "@jupyter-widgets/base",
      "_view_module_version": "1.2.0",
      "_view_name": "StyleView",
      "description_width": ""
     }
    },
    "3aa3c6dded7f4cc59667334e5187850e": {
     "model_module": "@jupyter-widgets/controls",
     "model_name": "HBoxModel",
     "state": {
      "_dom_classes": [],
      "_model_module": "@jupyter-widgets/controls",
      "_model_module_version": "1.5.0",
      "_model_name": "HBoxModel",
      "_view_count": null,
      "_view_module": "@jupyter-widgets/controls",
      "_view_module_version": "1.5.0",
      "_view_name": "HBoxView",
      "box_style": "",
      "children": [
       "IPY_MODEL_7a4421cdae2c43cc9cf408ba287c146d",
       "IPY_MODEL_ac778c44c7e543aab5ccc9c86ca65e7d"
      ],
      "layout": "IPY_MODEL_35119b6217794ec79b81dec10fbf6f79"
     }
    },
    "43f8f9fc7c524f1db79564a42d6759e5": {
     "model_module": "@jupyter-widgets/base",
     "model_name": "LayoutModel",
     "state": {
      "_model_module": "@jupyter-widgets/base",
      "_model_module_version": "1.2.0",
      "_model_name": "LayoutModel",
      "_view_count": null,
      "_view_module": "@jupyter-widgets/base",
      "_view_module_version": "1.2.0",
      "_view_name": "LayoutView",
      "align_content": null,
      "align_items": null,
      "align_self": null,
      "border": null,
      "bottom": null,
      "display": null,
      "flex": null,
      "flex_flow": null,
      "grid_area": null,
      "grid_auto_columns": null,
      "grid_auto_flow": null,
      "grid_auto_rows": null,
      "grid_column": null,
      "grid_gap": null,
      "grid_row": null,
      "grid_template_areas": null,
      "grid_template_columns": null,
      "grid_template_rows": null,
      "height": null,
      "justify_content": null,
      "justify_items": null,
      "left": null,
      "margin": null,
      "max_height": null,
      "max_width": null,
      "min_height": null,
      "min_width": null,
      "object_fit": null,
      "object_position": null,
      "order": null,
      "overflow": null,
      "overflow_x": null,
      "overflow_y": null,
      "padding": null,
      "right": null,
      "top": null,
      "visibility": null,
      "width": null
     }
    },
    "4825b178430341328a4af4b10f910a5b": {
     "model_module": "@jupyter-widgets/controls",
     "model_name": "DescriptionStyleModel",
     "state": {
      "_model_module": "@jupyter-widgets/controls",
      "_model_module_version": "1.5.0",
      "_model_name": "DescriptionStyleModel",
      "_view_count": null,
      "_view_module": "@jupyter-widgets/base",
      "_view_module_version": "1.2.0",
      "_view_name": "StyleView",
      "description_width": ""
     }
    },
    "524f5a3e8b304c45a765bb0c2d7ab0ff": {
     "model_module": "@jupyter-widgets/controls",
     "model_name": "FloatProgressModel",
     "state": {
      "_dom_classes": [],
      "_model_module": "@jupyter-widgets/controls",
      "_model_module_version": "1.5.0",
      "_model_name": "FloatProgressModel",
      "_view_count": null,
      "_view_module": "@jupyter-widgets/controls",
      "_view_module_version": "1.5.0",
      "_view_name": "ProgressView",
      "bar_style": "success",
      "description": "Downloading: 100%",
      "description_tooltip": null,
      "layout": "IPY_MODEL_0f84aa29d28146eb830323fb075962e9",
      "max": 466062,
      "min": 0,
      "orientation": "horizontal",
      "style": "IPY_MODEL_32f9dd77506b4a82abff07536ca95e6b",
      "value": 466062
     }
    },
    "580a9f37eacf4b55852911e3c6986dca": {
     "model_module": "@jupyter-widgets/controls",
     "model_name": "HBoxModel",
     "state": {
      "_dom_classes": [],
      "_model_module": "@jupyter-widgets/controls",
      "_model_module_version": "1.5.0",
      "_model_name": "HBoxModel",
      "_view_count": null,
      "_view_module": "@jupyter-widgets/controls",
      "_view_module_version": "1.5.0",
      "_view_name": "HBoxView",
      "box_style": "",
      "children": [
       "IPY_MODEL_7918c9d2251341298180f3e02c7e17e4",
       "IPY_MODEL_7ab1331bb5a34958b6e0c1cb42c836ac"
      ],
      "layout": "IPY_MODEL_6b46c1d1f3e84cf6b13b05f3b7c13918"
     }
    },
    "6aa3cb5c893c4d91b20ed6e18b0416f1": {
     "model_module": "@jupyter-widgets/controls",
     "model_name": "DescriptionStyleModel",
     "state": {
      "_model_module": "@jupyter-widgets/controls",
      "_model_module_version": "1.5.0",
      "_model_name": "DescriptionStyleModel",
      "_view_count": null,
      "_view_module": "@jupyter-widgets/base",
      "_view_module_version": "1.2.0",
      "_view_name": "StyleView",
      "description_width": ""
     }
    },
    "6b46c1d1f3e84cf6b13b05f3b7c13918": {
     "model_module": "@jupyter-widgets/base",
     "model_name": "LayoutModel",
     "state": {
      "_model_module": "@jupyter-widgets/base",
      "_model_module_version": "1.2.0",
      "_model_name": "LayoutModel",
      "_view_count": null,
      "_view_module": "@jupyter-widgets/base",
      "_view_module_version": "1.2.0",
      "_view_name": "LayoutView",
      "align_content": null,
      "align_items": null,
      "align_self": null,
      "border": null,
      "bottom": null,
      "display": null,
      "flex": null,
      "flex_flow": null,
      "grid_area": null,
      "grid_auto_columns": null,
      "grid_auto_flow": null,
      "grid_auto_rows": null,
      "grid_column": null,
      "grid_gap": null,
      "grid_row": null,
      "grid_template_areas": null,
      "grid_template_columns": null,
      "grid_template_rows": null,
      "height": null,
      "justify_content": null,
      "justify_items": null,
      "left": null,
      "margin": null,
      "max_height": null,
      "max_width": null,
      "min_height": null,
      "min_width": null,
      "object_fit": null,
      "object_position": null,
      "order": null,
      "overflow": null,
      "overflow_x": null,
      "overflow_y": null,
      "padding": null,
      "right": null,
      "top": null,
      "visibility": null,
      "width": null
     }
    },
    "7918c9d2251341298180f3e02c7e17e4": {
     "model_module": "@jupyter-widgets/controls",
     "model_name": "FloatProgressModel",
     "state": {
      "_dom_classes": [],
      "_model_module": "@jupyter-widgets/controls",
      "_model_module_version": "1.5.0",
      "_model_name": "FloatProgressModel",
      "_view_count": null,
      "_view_module": "@jupyter-widgets/controls",
      "_view_module_version": "1.5.0",
      "_view_name": "ProgressView",
      "bar_style": "success",
      "description": "Downloading: 100%",
      "description_tooltip": null,
      "layout": "IPY_MODEL_43f8f9fc7c524f1db79564a42d6759e5",
      "max": 440473133,
      "min": 0,
      "orientation": "horizontal",
      "style": "IPY_MODEL_c8ef30fb1d0f43558665016e7e5ac4d9",
      "value": 440473133
     }
    },
    "7a4421cdae2c43cc9cf408ba287c146d": {
     "model_module": "@jupyter-widgets/controls",
     "model_name": "FloatProgressModel",
     "state": {
      "_dom_classes": [],
      "_model_module": "@jupyter-widgets/controls",
      "_model_module_version": "1.5.0",
      "_model_name": "FloatProgressModel",
      "_view_count": null,
      "_view_module": "@jupyter-widgets/controls",
      "_view_module_version": "1.5.0",
      "_view_name": "ProgressView",
      "bar_style": "success",
      "description": "Downloading: 100%",
      "description_tooltip": null,
      "layout": "IPY_MODEL_bb4d871da6604626b8515159c2744a7d",
      "max": 433,
      "min": 0,
      "orientation": "horizontal",
      "style": "IPY_MODEL_d8a90ca80d5349f5bf9379a47848beee",
      "value": 433
     }
    },
    "7ab1331bb5a34958b6e0c1cb42c836ac": {
     "model_module": "@jupyter-widgets/controls",
     "model_name": "HTMLModel",
     "state": {
      "_dom_classes": [],
      "_model_module": "@jupyter-widgets/controls",
      "_model_module_version": "1.5.0",
      "_model_name": "HTMLModel",
      "_view_count": null,
      "_view_module": "@jupyter-widgets/controls",
      "_view_module_version": "1.5.0",
      "_view_name": "HTMLView",
      "description": "",
      "description_tooltip": null,
      "layout": "IPY_MODEL_188ecc363a74458aa57b3fcd9c599b92",
      "placeholder": "​",
      "style": "IPY_MODEL_7cea58186f8d477d84286d1cf2ad450c",
      "value": " 440M/440M [00:16&lt;00:00, 26.0MB/s]"
     }
    },
    "7cea58186f8d477d84286d1cf2ad450c": {
     "model_module": "@jupyter-widgets/controls",
     "model_name": "DescriptionStyleModel",
     "state": {
      "_model_module": "@jupyter-widgets/controls",
      "_model_module_version": "1.5.0",
      "_model_name": "DescriptionStyleModel",
      "_view_count": null,
      "_view_module": "@jupyter-widgets/base",
      "_view_module_version": "1.2.0",
      "_view_name": "StyleView",
      "description_width": ""
     }
    },
    "7d465dcddd834aaeaee2aa97017de068": {
     "model_module": "@jupyter-widgets/controls",
     "model_name": "HBoxModel",
     "state": {
      "_dom_classes": [],
      "_model_module": "@jupyter-widgets/controls",
      "_model_module_version": "1.5.0",
      "_model_name": "HBoxModel",
      "_view_count": null,
      "_view_module": "@jupyter-widgets/controls",
      "_view_module_version": "1.5.0",
      "_view_name": "HBoxView",
      "box_style": "",
      "children": [
       "IPY_MODEL_b18e4143cccc4d70a1a8b7821f7df5b7",
       "IPY_MODEL_db8c964350e74a7abcb0c9dffdb48ae1"
      ],
      "layout": "IPY_MODEL_f0ad3cdde72c4932ad1f420b0c084dbc"
     }
    },
    "8559b215542c4e03ae60aa0ed865a228": {
     "model_module": "@jupyter-widgets/controls",
     "model_name": "HBoxModel",
     "state": {
      "_dom_classes": [],
      "_model_module": "@jupyter-widgets/controls",
      "_model_module_version": "1.5.0",
      "_model_name": "HBoxModel",
      "_view_count": null,
      "_view_module": "@jupyter-widgets/controls",
      "_view_module_version": "1.5.0",
      "_view_name": "HBoxView",
      "box_style": "",
      "children": [
       "IPY_MODEL_524f5a3e8b304c45a765bb0c2d7ab0ff",
       "IPY_MODEL_bdf69fb63b3b442bad2b7c4f3f6d60f9"
      ],
      "layout": "IPY_MODEL_f73fcf5de53c4d16a62cfcef04169440"
     }
    },
    "90572324556046e5ba7e9aab7a530c27": {
     "model_module": "@jupyter-widgets/base",
     "model_name": "LayoutModel",
     "state": {
      "_model_module": "@jupyter-widgets/base",
      "_model_module_version": "1.2.0",
      "_model_name": "LayoutModel",
      "_view_count": null,
      "_view_module": "@jupyter-widgets/base",
      "_view_module_version": "1.2.0",
      "_view_name": "LayoutView",
      "align_content": null,
      "align_items": null,
      "align_self": null,
      "border": null,
      "bottom": null,
      "display": null,
      "flex": null,
      "flex_flow": null,
      "grid_area": null,
      "grid_auto_columns": null,
      "grid_auto_flow": null,
      "grid_auto_rows": null,
      "grid_column": null,
      "grid_gap": null,
      "grid_row": null,
      "grid_template_areas": null,
      "grid_template_columns": null,
      "grid_template_rows": null,
      "height": null,
      "justify_content": null,
      "justify_items": null,
      "left": null,
      "margin": null,
      "max_height": null,
      "max_width": null,
      "min_height": null,
      "min_width": null,
      "object_fit": null,
      "object_position": null,
      "order": null,
      "overflow": null,
      "overflow_x": null,
      "overflow_y": null,
      "padding": null,
      "right": null,
      "top": null,
      "visibility": null,
      "width": null
     }
    },
    "93752298509a42f88ece3864dbc0d9ad": {
     "model_module": "@jupyter-widgets/base",
     "model_name": "LayoutModel",
     "state": {
      "_model_module": "@jupyter-widgets/base",
      "_model_module_version": "1.2.0",
      "_model_name": "LayoutModel",
      "_view_count": null,
      "_view_module": "@jupyter-widgets/base",
      "_view_module_version": "1.2.0",
      "_view_name": "LayoutView",
      "align_content": null,
      "align_items": null,
      "align_self": null,
      "border": null,
      "bottom": null,
      "display": null,
      "flex": null,
      "flex_flow": null,
      "grid_area": null,
      "grid_auto_columns": null,
      "grid_auto_flow": null,
      "grid_auto_rows": null,
      "grid_column": null,
      "grid_gap": null,
      "grid_row": null,
      "grid_template_areas": null,
      "grid_template_columns": null,
      "grid_template_rows": null,
      "height": null,
      "justify_content": null,
      "justify_items": null,
      "left": null,
      "margin": null,
      "max_height": null,
      "max_width": null,
      "min_height": null,
      "min_width": null,
      "object_fit": null,
      "object_position": null,
      "order": null,
      "overflow": null,
      "overflow_x": null,
      "overflow_y": null,
      "padding": null,
      "right": null,
      "top": null,
      "visibility": null,
      "width": null
     }
    },
    "95fb8eb70aaa452dac8c63bc41fbfe34": {
     "model_module": "@jupyter-widgets/controls",
     "model_name": "FloatProgressModel",
     "state": {
      "_dom_classes": [],
      "_model_module": "@jupyter-widgets/controls",
      "_model_module_version": "1.5.0",
      "_model_name": "FloatProgressModel",
      "_view_count": null,
      "_view_module": "@jupyter-widgets/controls",
      "_view_module_version": "1.5.0",
      "_view_name": "ProgressView",
      "bar_style": "success",
      "description": "Downloading: 100%",
      "description_tooltip": null,
      "layout": "IPY_MODEL_aab0245a5fff45f795593a9891c6c636",
      "max": 231508,
      "min": 0,
      "orientation": "horizontal",
      "style": "IPY_MODEL_bad2c49d2f974ce8b33b068556c2d77b",
      "value": 231508
     }
    },
    "aab0245a5fff45f795593a9891c6c636": {
     "model_module": "@jupyter-widgets/base",
     "model_name": "LayoutModel",
     "state": {
      "_model_module": "@jupyter-widgets/base",
      "_model_module_version": "1.2.0",
      "_model_name": "LayoutModel",
      "_view_count": null,
      "_view_module": "@jupyter-widgets/base",
      "_view_module_version": "1.2.0",
      "_view_name": "LayoutView",
      "align_content": null,
      "align_items": null,
      "align_self": null,
      "border": null,
      "bottom": null,
      "display": null,
      "flex": null,
      "flex_flow": null,
      "grid_area": null,
      "grid_auto_columns": null,
      "grid_auto_flow": null,
      "grid_auto_rows": null,
      "grid_column": null,
      "grid_gap": null,
      "grid_row": null,
      "grid_template_areas": null,
      "grid_template_columns": null,
      "grid_template_rows": null,
      "height": null,
      "justify_content": null,
      "justify_items": null,
      "left": null,
      "margin": null,
      "max_height": null,
      "max_width": null,
      "min_height": null,
      "min_width": null,
      "object_fit": null,
      "object_position": null,
      "order": null,
      "overflow": null,
      "overflow_x": null,
      "overflow_y": null,
      "padding": null,
      "right": null,
      "top": null,
      "visibility": null,
      "width": null
     }
    },
    "ac778c44c7e543aab5ccc9c86ca65e7d": {
     "model_module": "@jupyter-widgets/controls",
     "model_name": "HTMLModel",
     "state": {
      "_dom_classes": [],
      "_model_module": "@jupyter-widgets/controls",
      "_model_module_version": "1.5.0",
      "_model_name": "HTMLModel",
      "_view_count": null,
      "_view_module": "@jupyter-widgets/controls",
      "_view_module_version": "1.5.0",
      "_view_name": "HTMLView",
      "description": "",
      "description_tooltip": null,
      "layout": "IPY_MODEL_c211e895b3fe41b59dc31045fde4b890",
      "placeholder": "​",
      "style": "IPY_MODEL_3883bbc06817450e86e9288a3cdca389",
      "value": " 433/433 [00:00&lt;00:00, 1.08kB/s]"
     }
    },
    "b18e4143cccc4d70a1a8b7821f7df5b7": {
     "model_module": "@jupyter-widgets/controls",
     "model_name": "FloatProgressModel",
     "state": {
      "_dom_classes": [],
      "_model_module": "@jupyter-widgets/controls",
      "_model_module_version": "1.5.0",
      "_model_name": "FloatProgressModel",
      "_view_count": null,
      "_view_module": "@jupyter-widgets/controls",
      "_view_module_version": "1.5.0",
      "_view_name": "ProgressView",
      "bar_style": "success",
      "description": "Downloading: 100%",
      "description_tooltip": null,
      "layout": "IPY_MODEL_93752298509a42f88ece3864dbc0d9ad",
      "max": 28,
      "min": 0,
      "orientation": "horizontal",
      "style": "IPY_MODEL_fd8b96c231ec45c8a38031a379af41d1",
      "value": 28
     }
    },
    "bad2c49d2f974ce8b33b068556c2d77b": {
     "model_module": "@jupyter-widgets/controls",
     "model_name": "ProgressStyleModel",
     "state": {
      "_model_module": "@jupyter-widgets/controls",
      "_model_module_version": "1.5.0",
      "_model_name": "ProgressStyleModel",
      "_view_count": null,
      "_view_module": "@jupyter-widgets/base",
      "_view_module_version": "1.2.0",
      "_view_name": "StyleView",
      "bar_color": null,
      "description_width": "initial"
     }
    },
    "bb2519d85a254bf28785b23063523a6d": {
     "model_module": "@jupyter-widgets/base",
     "model_name": "LayoutModel",
     "state": {
      "_model_module": "@jupyter-widgets/base",
      "_model_module_version": "1.2.0",
      "_model_name": "LayoutModel",
      "_view_count": null,
      "_view_module": "@jupyter-widgets/base",
      "_view_module_version": "1.2.0",
      "_view_name": "LayoutView",
      "align_content": null,
      "align_items": null,
      "align_self": null,
      "border": null,
      "bottom": null,
      "display": null,
      "flex": null,
      "flex_flow": null,
      "grid_area": null,
      "grid_auto_columns": null,
      "grid_auto_flow": null,
      "grid_auto_rows": null,
      "grid_column": null,
      "grid_gap": null,
      "grid_row": null,
      "grid_template_areas": null,
      "grid_template_columns": null,
      "grid_template_rows": null,
      "height": null,
      "justify_content": null,
      "justify_items": null,
      "left": null,
      "margin": null,
      "max_height": null,
      "max_width": null,
      "min_height": null,
      "min_width": null,
      "object_fit": null,
      "object_position": null,
      "order": null,
      "overflow": null,
      "overflow_x": null,
      "overflow_y": null,
      "padding": null,
      "right": null,
      "top": null,
      "visibility": null,
      "width": null
     }
    },
    "bb4d871da6604626b8515159c2744a7d": {
     "model_module": "@jupyter-widgets/base",
     "model_name": "LayoutModel",
     "state": {
      "_model_module": "@jupyter-widgets/base",
      "_model_module_version": "1.2.0",
      "_model_name": "LayoutModel",
      "_view_count": null,
      "_view_module": "@jupyter-widgets/base",
      "_view_module_version": "1.2.0",
      "_view_name": "LayoutView",
      "align_content": null,
      "align_items": null,
      "align_self": null,
      "border": null,
      "bottom": null,
      "display": null,
      "flex": null,
      "flex_flow": null,
      "grid_area": null,
      "grid_auto_columns": null,
      "grid_auto_flow": null,
      "grid_auto_rows": null,
      "grid_column": null,
      "grid_gap": null,
      "grid_row": null,
      "grid_template_areas": null,
      "grid_template_columns": null,
      "grid_template_rows": null,
      "height": null,
      "justify_content": null,
      "justify_items": null,
      "left": null,
      "margin": null,
      "max_height": null,
      "max_width": null,
      "min_height": null,
      "min_width": null,
      "object_fit": null,
      "object_position": null,
      "order": null,
      "overflow": null,
      "overflow_x": null,
      "overflow_y": null,
      "padding": null,
      "right": null,
      "top": null,
      "visibility": null,
      "width": null
     }
    },
    "bdf69fb63b3b442bad2b7c4f3f6d60f9": {
     "model_module": "@jupyter-widgets/controls",
     "model_name": "HTMLModel",
     "state": {
      "_dom_classes": [],
      "_model_module": "@jupyter-widgets/controls",
      "_model_module_version": "1.5.0",
      "_model_name": "HTMLModel",
      "_view_count": null,
      "_view_module": "@jupyter-widgets/controls",
      "_view_module_version": "1.5.0",
      "_view_name": "HTMLView",
      "description": "",
      "description_tooltip": null,
      "layout": "IPY_MODEL_10403509e2334a45b8b01345b92744e6",
      "placeholder": "​",
      "style": "IPY_MODEL_6aa3cb5c893c4d91b20ed6e18b0416f1",
      "value": " 466k/466k [00:00&lt;00:00, 1.07MB/s]"
     }
    },
    "c211e895b3fe41b59dc31045fde4b890": {
     "model_module": "@jupyter-widgets/base",
     "model_name": "LayoutModel",
     "state": {
      "_model_module": "@jupyter-widgets/base",
      "_model_module_version": "1.2.0",
      "_model_name": "LayoutModel",
      "_view_count": null,
      "_view_module": "@jupyter-widgets/base",
      "_view_module_version": "1.2.0",
      "_view_name": "LayoutView",
      "align_content": null,
      "align_items": null,
      "align_self": null,
      "border": null,
      "bottom": null,
      "display": null,
      "flex": null,
      "flex_flow": null,
      "grid_area": null,
      "grid_auto_columns": null,
      "grid_auto_flow": null,
      "grid_auto_rows": null,
      "grid_column": null,
      "grid_gap": null,
      "grid_row": null,
      "grid_template_areas": null,
      "grid_template_columns": null,
      "grid_template_rows": null,
      "height": null,
      "justify_content": null,
      "justify_items": null,
      "left": null,
      "margin": null,
      "max_height": null,
      "max_width": null,
      "min_height": null,
      "min_width": null,
      "object_fit": null,
      "object_position": null,
      "order": null,
      "overflow": null,
      "overflow_x": null,
      "overflow_y": null,
      "padding": null,
      "right": null,
      "top": null,
      "visibility": null,
      "width": null
     }
    },
    "c8ef30fb1d0f43558665016e7e5ac4d9": {
     "model_module": "@jupyter-widgets/controls",
     "model_name": "ProgressStyleModel",
     "state": {
      "_model_module": "@jupyter-widgets/controls",
      "_model_module_version": "1.5.0",
      "_model_name": "ProgressStyleModel",
      "_view_count": null,
      "_view_module": "@jupyter-widgets/base",
      "_view_module_version": "1.2.0",
      "_view_name": "StyleView",
      "bar_color": null,
      "description_width": "initial"
     }
    },
    "d8a90ca80d5349f5bf9379a47848beee": {
     "model_module": "@jupyter-widgets/controls",
     "model_name": "ProgressStyleModel",
     "state": {
      "_model_module": "@jupyter-widgets/controls",
      "_model_module_version": "1.5.0",
      "_model_name": "ProgressStyleModel",
      "_view_count": null,
      "_view_module": "@jupyter-widgets/base",
      "_view_module_version": "1.2.0",
      "_view_name": "StyleView",
      "bar_color": null,
      "description_width": "initial"
     }
    },
    "db8c964350e74a7abcb0c9dffdb48ae1": {
     "model_module": "@jupyter-widgets/controls",
     "model_name": "HTMLModel",
     "state": {
      "_dom_classes": [],
      "_model_module": "@jupyter-widgets/controls",
      "_model_module_version": "1.5.0",
      "_model_name": "HTMLModel",
      "_view_count": null,
      "_view_module": "@jupyter-widgets/controls",
      "_view_module_version": "1.5.0",
      "_view_name": "HTMLView",
      "description": "",
      "description_tooltip": null,
      "layout": "IPY_MODEL_2c7ef4f6fa884f27a97e334d8f01cb8d",
      "placeholder": "​",
      "style": "IPY_MODEL_1cc5adbdb6014dc8bc4762b02361530b",
      "value": " 28.0/28.0 [00:01&lt;00:00, 27.8B/s]"
     }
    },
    "e75b418f226f46cb8f82cfe27ee66483": {
     "model_module": "@jupyter-widgets/controls",
     "model_name": "HTMLModel",
     "state": {
      "_dom_classes": [],
      "_model_module": "@jupyter-widgets/controls",
      "_model_module_version": "1.5.0",
      "_model_name": "HTMLModel",
      "_view_count": null,
      "_view_module": "@jupyter-widgets/controls",
      "_view_module_version": "1.5.0",
      "_view_name": "HTMLView",
      "description": "",
      "description_tooltip": null,
      "layout": "IPY_MODEL_bb2519d85a254bf28785b23063523a6d",
      "placeholder": "​",
      "style": "IPY_MODEL_4825b178430341328a4af4b10f910a5b",
      "value": " 232k/232k [00:01&lt;00:00, 188kB/s]"
     }
    },
    "f0ad3cdde72c4932ad1f420b0c084dbc": {
     "model_module": "@jupyter-widgets/base",
     "model_name": "LayoutModel",
     "state": {
      "_model_module": "@jupyter-widgets/base",
      "_model_module_version": "1.2.0",
      "_model_name": "LayoutModel",
      "_view_count": null,
      "_view_module": "@jupyter-widgets/base",
      "_view_module_version": "1.2.0",
      "_view_name": "LayoutView",
      "align_content": null,
      "align_items": null,
      "align_self": null,
      "border": null,
      "bottom": null,
      "display": null,
      "flex": null,
      "flex_flow": null,
      "grid_area": null,
      "grid_auto_columns": null,
      "grid_auto_flow": null,
      "grid_auto_rows": null,
      "grid_column": null,
      "grid_gap": null,
      "grid_row": null,
      "grid_template_areas": null,
      "grid_template_columns": null,
      "grid_template_rows": null,
      "height": null,
      "justify_content": null,
      "justify_items": null,
      "left": null,
      "margin": null,
      "max_height": null,
      "max_width": null,
      "min_height": null,
      "min_width": null,
      "object_fit": null,
      "object_position": null,
      "order": null,
      "overflow": null,
      "overflow_x": null,
      "overflow_y": null,
      "padding": null,
      "right": null,
      "top": null,
      "visibility": null,
      "width": null
     }
    },
    "f73fcf5de53c4d16a62cfcef04169440": {
     "model_module": "@jupyter-widgets/base",
     "model_name": "LayoutModel",
     "state": {
      "_model_module": "@jupyter-widgets/base",
      "_model_module_version": "1.2.0",
      "_model_name": "LayoutModel",
      "_view_count": null,
      "_view_module": "@jupyter-widgets/base",
      "_view_module_version": "1.2.0",
      "_view_name": "LayoutView",
      "align_content": null,
      "align_items": null,
      "align_self": null,
      "border": null,
      "bottom": null,
      "display": null,
      "flex": null,
      "flex_flow": null,
      "grid_area": null,
      "grid_auto_columns": null,
      "grid_auto_flow": null,
      "grid_auto_rows": null,
      "grid_column": null,
      "grid_gap": null,
      "grid_row": null,
      "grid_template_areas": null,
      "grid_template_columns": null,
      "grid_template_rows": null,
      "height": null,
      "justify_content": null,
      "justify_items": null,
      "left": null,
      "margin": null,
      "max_height": null,
      "max_width": null,
      "min_height": null,
      "min_width": null,
      "object_fit": null,
      "object_position": null,
      "order": null,
      "overflow": null,
      "overflow_x": null,
      "overflow_y": null,
      "padding": null,
      "right": null,
      "top": null,
      "visibility": null,
      "width": null
     }
    },
    "fd8b96c231ec45c8a38031a379af41d1": {
     "model_module": "@jupyter-widgets/controls",
     "model_name": "ProgressStyleModel",
     "state": {
      "_model_module": "@jupyter-widgets/controls",
      "_model_module_version": "1.5.0",
      "_model_name": "ProgressStyleModel",
      "_view_count": null,
      "_view_module": "@jupyter-widgets/base",
      "_view_module_version": "1.2.0",
      "_view_name": "StyleView",
      "bar_color": null,
      "description_width": "initial"
     }
    },
    "ffb270e803ad496cac012404947a92e7": {
     "model_module": "@jupyter-widgets/controls",
     "model_name": "HBoxModel",
     "state": {
      "_dom_classes": [],
      "_model_module": "@jupyter-widgets/controls",
      "_model_module_version": "1.5.0",
      "_model_name": "HBoxModel",
      "_view_count": null,
      "_view_module": "@jupyter-widgets/controls",
      "_view_module_version": "1.5.0",
      "_view_name": "HBoxView",
      "box_style": "",
      "children": [
       "IPY_MODEL_95fb8eb70aaa452dac8c63bc41fbfe34",
       "IPY_MODEL_e75b418f226f46cb8f82cfe27ee66483"
      ],
      "layout": "IPY_MODEL_90572324556046e5ba7e9aab7a530c27"
     }
    }
   }
  }
 },
 "nbformat": 4,
 "nbformat_minor": 1
}
